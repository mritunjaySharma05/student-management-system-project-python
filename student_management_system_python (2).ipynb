{
  "nbformat": 4,
  "nbformat_minor": 0,
  "metadata": {
    "colab": {
      "provenance": []
    },
    "kernelspec": {
      "name": "python3",
      "display_name": "Python 3"
    },
    "language_info": {
      "name": "python"
    }
  },
  "cells": [
    {
      "cell_type": "markdown",
      "source": [
        "# 🎓 Student Management System (Console App in Python)\n",
        "\n",
        "This is a simple console-based Student Management System built using Python.  \n",
        "### 🔐 Features:\n",
        "- Admin login with password authentication\n",
        "- Add, view, update, delete students\n",
        "- Export student data to CSV\n",
        "- Roll number validation & sorted views\n"
      ],
      "metadata": {
        "id": "qDc2o7p9gYYg"
      }
    },
    {
      "cell_type": "markdown",
      "source": [
        "## 🛠️ Setup & Data Storage"
      ],
      "metadata": {
        "id": "3H8db-SOvJXs"
      }
    },
    {
      "cell_type": "code",
      "source": [
        "import sys\n",
        "import csv"
      ],
      "metadata": {
        "id": "o90rgaVWuom6"
      },
      "execution_count": 51,
      "outputs": []
    },
    {
      "cell_type": "code",
      "execution_count": 52,
      "metadata": {
        "id": "i0T2utZDgX0z"
      },
      "outputs": [],
      "source": [
        "students = []"
      ]
    },
    {
      "cell_type": "markdown",
      "source": [
        "## 🔐 Authentication"
      ],
      "metadata": {
        "id": "sDzdufTHs7ef"
      }
    },
    {
      "cell_type": "code",
      "source": [
        "def authenticate():\n",
        "    admin_username = \"mritunjay\"\n",
        "    admin_password = \"1202\"\n",
        "    username = input(\"👤 Enter admin username: \")\n",
        "    password = input(\"🔐 Enter password: \")\n",
        "    if username == admin_username and password == admin_password:\n",
        "        print(\"🔐 Authentication successful.\")\n",
        "        print(f\"✅ Welcome, {username}!\")\n",
        "    else:\n",
        "        print(\"❌ Access denied.\")\n",
        "        sys.exit()"
      ],
      "metadata": {
        "id": "G__Ha1rFoXwE"
      },
      "execution_count": 61,
      "outputs": []
    },
    {
      "cell_type": "markdown",
      "source": [
        "## ➕ Add Student Function"
      ],
      "metadata": {
        "id": "GALwYO4v3Eff"
      }
    },
    {
      "cell_type": "code",
      "source": [
        "def add_stud():\n",
        "    name =input(\"Enter name :\")\n",
        "    age = input(\"Enter Age: \")\n",
        "    while True:\n",
        "          rn = input(\"Enter Roll No :\")\n",
        "          if any(s['rn'] == rn for s in students):\n",
        "             print(\"❌ Roll No already exists. Please enter a different one.\")\n",
        "          else:\n",
        "             break\n",
        "\n",
        "    student = {\n",
        "      \"name\":name,\n",
        "      \"rn\":rn,\n",
        "      \"age\":age\n",
        "      }\n",
        "\n",
        "    students.append(student)\n",
        "\n",
        "    print(\"Student added successfully\")"
      ],
      "metadata": {
        "id": "FAjn0l33gn9z"
      },
      "execution_count": 54,
      "outputs": []
    },
    {
      "cell_type": "markdown",
      "source": [
        "## 📋 View Students Function"
      ],
      "metadata": {
        "id": "KD-RtTjb3K3x"
      }
    },
    {
      "cell_type": "code",
      "source": [
        "def view_data():\n",
        "    if len(students)==0:\n",
        "       print(\"No Student Found !!!!\")\n",
        "       return\n",
        "    for i in sorted(students, key=lambda x: int(x['rn'])):\n",
        "        print(f\"\\n📋 Roll No: {i['rn']} | Name: {i['name']} | Age: {i['age']}\")"
      ],
      "metadata": {
        "id": "2oDdPCG5hai5"
      },
      "execution_count": 55,
      "outputs": []
    },
    {
      "cell_type": "markdown",
      "source": [
        "## 🔍 Search by Roll Number Function"
      ],
      "metadata": {
        "id": "o5iS8Bp43O3Y"
      }
    },
    {
      "cell_type": "code",
      "source": [
        "def search_rn():\n",
        "\n",
        "    roll = input(\"enter roll no:\")\n",
        "    for s in students:\n",
        "        if s['rn'] == roll:\n",
        "           print(f\"✅FOUND!!!!\\nRoll_No:{s['rn']}|Name:{s['name']}|Age:{s['age']}\")\n",
        "           return\n",
        "    print(\"❌Student not found\")"
      ],
      "metadata": {
        "id": "QCPb5aMQuDkP"
      },
      "execution_count": 56,
      "outputs": []
    },
    {
      "cell_type": "markdown",
      "source": [
        "## 🗑️ Delete Function"
      ],
      "metadata": {
        "id": "dpUAzd7ntJXY"
      }
    },
    {
      "cell_type": "code",
      "source": [
        "def del_stud():\n",
        "    delrn = input(\"Enter Roll no you want to delete :\")\n",
        "    for i in students:\n",
        "       if i['rn'] == delrn:\n",
        "          delrn = i\n",
        "          print(f\"\\n📋 Roll No: {delrn['rn']} | Name: {delrn['name']} | Age: {delrn['age']}\")\n",
        "          conf = input(f\"Are you confirm to delete Rollno:{delrn['rn']}? press (y/n):\")\n",
        "          if conf == \"y\":\n",
        "             students.remove(delrn)\n",
        "             print(\"🗑️Student deleted successfully\")\n",
        "             return\n",
        "          else:\n",
        "             print(\"❌Deletion Cancelled\")\n",
        "             return\n",
        "    print(\"❌Student not found\")"
      ],
      "metadata": {
        "id": "IMj8-YtOcpkC"
      },
      "execution_count": 57,
      "outputs": []
    },
    {
      "cell_type": "markdown",
      "source": [
        "## ♻️ Update Function"
      ],
      "metadata": {
        "id": "U6qc9r1JtDzX"
      }
    },
    {
      "cell_type": "code",
      "source": [
        "def update_student():\n",
        "    if not students:\n",
        "        print(\"No students found to update.\")\n",
        "        return\n",
        "\n",
        "    roll = input(\"Enter the Roll No of the student to update: \")\n",
        "\n",
        "    for student in students:\n",
        "        if student['rn'] == roll:\n",
        "            print(f\"\\nStudent Found: Name: {student['name']}, Age: {student['age']}, Roll No: {student['rn']}\")\n",
        "\n",
        "            print(\"\\nWhat do you want to update?\")\n",
        "            print(\"1. Name\")\n",
        "            print(\"2. Age\")\n",
        "            print(\"3. Roll No\")\n",
        "\n",
        "            choice = input(\"Enter your choice (1/2/3): \")\n",
        "\n",
        "            if choice == \"1\":\n",
        "                new_name = input(\"Enter new name: \")\n",
        "                student['name'] = new_name\n",
        "                print(\"✅ Name updated successfully.\")\n",
        "\n",
        "            elif choice == \"2\":\n",
        "                new_age = input(\"Enter new age: \")\n",
        "                student['age'] = new_age\n",
        "                print(\"✅ Age updated successfully.\")\n",
        "\n",
        "            elif choice == \"3\":\n",
        "                while True:\n",
        "                    new_rn = input(\"Enter new Roll No: \")\n",
        "                    if any(s['rn'] == new_rn and s != student for s in students):\n",
        "                        print(\"❌ Roll No already exists. Try again.\")\n",
        "                    else:\n",
        "                        student['rn'] = new_rn\n",
        "                        print(\"✅ Roll No updated successfully.\")\n",
        "                        break\n",
        "\n",
        "            else:\n",
        "                print(\"❌ Invalid option.\")\n",
        "            return\n",
        "\n",
        "    print(\"❌ Student not found.\")"
      ],
      "metadata": {
        "id": "o2Mu9PezhyWL"
      },
      "execution_count": 58,
      "outputs": []
    },
    {
      "cell_type": "markdown",
      "source": [
        "## 📤 Export Function"
      ],
      "metadata": {
        "id": "jBRv-wtttOFn"
      }
    },
    {
      "cell_type": "code",
      "source": [
        "def export_to_csv():\n",
        "    if not students:\n",
        "        print(\"❌ No students to export.\")\n",
        "        return\n",
        "\n",
        "    with open('students.csv', mode='w', newline='') as file:\n",
        "        writer = csv.DictWriter(file, fieldnames=[\"rn\", \"name\", \"age\"])\n",
        "        writer.writeheader()\n",
        "        writer.writerows(students)\n",
        "\n",
        "    print(\"✅ Students exported successfully to students.csv\")"
      ],
      "metadata": {
        "id": "oAKkjTKDqzhz"
      },
      "execution_count": 59,
      "outputs": []
    },
    {
      "cell_type": "markdown",
      "source": [
        "## 🎮 Main Program"
      ],
      "metadata": {
        "id": "cM0Su_9p3QV6"
      }
    },
    {
      "cell_type": "code",
      "source": [
        "def main():\n",
        "\n",
        "    print(\"\\n📘 Student Management System\")\n",
        "    print(\"🔐 Admin Login Required\")\n",
        "    authenticate()\n",
        "\n",
        "    while True:\n",
        "          print(\"\\nMenu:\")\n",
        "          print(\"1. Add Student\")\n",
        "          print(\"2. View Students\")\n",
        "          print(\"3. Search by Roll No\")\n",
        "          print(\"4. Delete Student\")\n",
        "          print(\"5. Update Student\")\n",
        "          print(\"6. Export to CSV\")\n",
        "          print(\"7. Exit\")\n",
        "\n",
        "          choice = input('Enter your choice (1/2/3/4/5/6):')\n",
        "\n",
        "          if choice == \"1\":\n",
        "               print(\"\\nAdd Student:\\n\")\n",
        "               add_stud()\n",
        "          elif choice == \"2\":\n",
        "               print(\"\\nStudent Details:\\n\")\n",
        "               view_data()\n",
        "          elif choice == \"3\":\n",
        "               print(\"\\nSearch by Roll No\\n\")\n",
        "               search_rn()\n",
        "          elif choice ==\"4\":\n",
        "               print(\"Delete Window \\n\")\n",
        "               del_stud()\n",
        "          elif choice == \"5\":\n",
        "               print(\"Update window \\n \")\n",
        "               update_student()\n",
        "          elif choice == \"6\":\n",
        "               print(\"Exporting CSV file.......\")\n",
        "               export_to_csv()\n",
        "          elif choice== \"7\" :\n",
        "               print(\"EXITING......👋\")\n",
        "               break\n",
        "          else:\n",
        "               print(\"❌Invalid choice. Please select a valid option.\")\n",
        "\n",
        "main()"
      ],
      "metadata": {
        "colab": {
          "base_uri": "https://localhost:8080/"
        },
        "id": "8Z3M5S29wSWa",
        "outputId": "e3537b79-7f06-4b71-fbe0-926f44862200"
      },
      "execution_count": 62,
      "outputs": [
        {
          "output_type": "stream",
          "name": "stdout",
          "text": [
            "\n",
            "📘 Student Management System\n",
            "🔐 Admin Login Required\n",
            "👤 Enter admin username: mritunjay\n",
            "🔐 Enter password: 1202\n",
            "🔐 Authentication successful.\n",
            "✅ Welcome, mritunjay!\n",
            "\n",
            "Menu:\n",
            "1. Add Student\n",
            "2. View Students\n",
            "3. Search by Roll No\n",
            "4. Delete Student\n",
            "5. Update Student\n",
            "6. Export to CSV\n",
            "7. Exit\n",
            "Enter your choice (1/2/3/4/5/6):7\n",
            "EXITING......👋\n"
          ]
        }
      ]
    },
    {
      "cell_type": "markdown",
      "source": [
        "---\n",
        "\n",
        "## 📝 Final Notes\n",
        "\n",
        "- This project demonstrates a complete console-based Student Management System using Python.\n",
        "- All core CRUD operations are implemented along with admin authentication and data export features.\n",
        "- The structure is modular, secure, and ready for further extensions.\n",
        "\n",
        "## 🚀 Future Enhancements\n",
        "\n",
        "- Add marks/grades and percentage calculation\n",
        "- Store data in JSON or database for permanent saving\n",
        "- Develop a GUI version using Tkinter or PyQt\n",
        "- Add login system for multiple users (admin/student roles)\n",
        "\n",
        "---\n",
        "\n",
        "## 🙋 Author\n",
        "\n",
        "- **Name**: Mritunjay Sharma  \n",
        "- **Status**: AI & Python Student (2025)  \n",
        "- **Tools Used**: Python 3, Google Colab, CSV, sys module  \n",
        "- **GitHub**: *https://github.com/mritunjaySharma05*\n",
        "\n",
        "---\n"
      ],
      "metadata": {
        "id": "udFBvRQy3wjc"
      }
    }
  ]
}